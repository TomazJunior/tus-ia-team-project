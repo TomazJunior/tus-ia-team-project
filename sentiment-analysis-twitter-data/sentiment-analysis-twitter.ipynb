{
 "cells": [
  {
   "cell_type": "markdown",
   "id": "24b7410e-68d8-4366-91c5-30f42c34ec9a",
   "metadata": {},
   "source": [
    "## Imports"
   ]
  },
  {
   "cell_type": "markdown",
   "id": "b4c9e4bb-d420-49cc-8dde-012f4a891f30",
   "metadata": {},
   "source": [
    "### Imports"
   ]
  },
  {
   "cell_type": "code",
   "execution_count": 1,
   "id": "5d27e87b-680f-4ceb-bb9d-ce42ba1820d8",
   "metadata": {
    "tags": []
   },
   "outputs": [],
   "source": [
    "import pandas as pd\n",
    "from datetime import datetime"
   ]
  },
  {
   "cell_type": "markdown",
   "id": "19401738-1d45-421b-aa24-c92d7476d109",
   "metadata": {},
   "source": [
    "### Load Dataset"
   ]
  },
  {
   "cell_type": "code",
   "execution_count": 2,
   "id": "f729cd53-9b5b-43c2-b411-f174961b66cd",
   "metadata": {
    "tags": []
   },
   "outputs": [],
   "source": [
    "# Use low_memory=False to prevent dtype inference problems\n",
    "chunk = pd.read_csv('../data/bitcoin_tweets_original.csv',chunksize=100000,lineterminator='\\n',low_memory=False)\n",
    "df = pd.concat(chunk)"
   ]
  },
  {
   "cell_type": "markdown",
   "id": "f3d8e069-265a-4da7-94d7-bcb06a9d1dca",
   "metadata": {},
   "source": [
    "## Dataset info"
   ]
  },
  {
   "cell_type": "code",
   "execution_count": 3,
   "id": "46fa1d02-25e0-4196-b5d3-97e1078b9a10",
   "metadata": {
    "tags": []
   },
   "outputs": [
    {
     "data": {
      "text/plain": [
       "(4689354, 13)"
      ]
     },
     "execution_count": 3,
     "metadata": {},
     "output_type": "execute_result"
    }
   ],
   "source": [
    "df.shape"
   ]
  },
  {
   "cell_type": "code",
   "execution_count": 4,
   "id": "b6a68c71-5886-486d-914c-a8b36ac10e56",
   "metadata": {
    "tags": []
   },
   "outputs": [
    {
     "name": "stdout",
     "output_type": "stream",
     "text": [
      "<class 'pandas.core.frame.DataFrame'>\n",
      "RangeIndex: 4689354 entries, 0 to 4689353\n",
      "Data columns (total 13 columns):\n",
      " #   Column            Dtype \n",
      "---  ------            ----- \n",
      " 0   user_name         object\n",
      " 1   user_location     object\n",
      " 2   user_description  object\n",
      " 3   user_created      object\n",
      " 4   user_followers    object\n",
      " 5   user_friends      object\n",
      " 6   user_favourites   object\n",
      " 7   user_verified     object\n",
      " 8   date              object\n",
      " 9   text              object\n",
      " 10  hashtags          object\n",
      " 11  source            object\n",
      " 12  is_retweet        object\n",
      "dtypes: object(13)\n",
      "memory usage: 465.1+ MB\n"
     ]
    }
   ],
   "source": [
    "df.info()"
   ]
  },
  {
   "cell_type": "code",
   "execution_count": 5,
   "id": "23a234c6-406e-453f-b320-f60e46a88df6",
   "metadata": {
    "tags": []
   },
   "outputs": [
    {
     "data": {
      "text/html": [
       "<div>\n",
       "<style scoped>\n",
       "    .dataframe tbody tr th:only-of-type {\n",
       "        vertical-align: middle;\n",
       "    }\n",
       "\n",
       "    .dataframe tbody tr th {\n",
       "        vertical-align: top;\n",
       "    }\n",
       "\n",
       "    .dataframe thead th {\n",
       "        text-align: right;\n",
       "    }\n",
       "</style>\n",
       "<table border=\"1\" class=\"dataframe\">\n",
       "  <thead>\n",
       "    <tr style=\"text-align: right;\">\n",
       "      <th></th>\n",
       "      <th>user_name</th>\n",
       "      <th>user_location</th>\n",
       "      <th>user_description</th>\n",
       "      <th>user_created</th>\n",
       "      <th>user_followers</th>\n",
       "      <th>user_friends</th>\n",
       "      <th>user_favourites</th>\n",
       "      <th>user_verified</th>\n",
       "      <th>date</th>\n",
       "      <th>text</th>\n",
       "      <th>hashtags</th>\n",
       "      <th>source</th>\n",
       "      <th>is_retweet</th>\n",
       "    </tr>\n",
       "  </thead>\n",
       "  <tbody>\n",
       "    <tr>\n",
       "      <th>count</th>\n",
       "      <td>4689246</td>\n",
       "      <td>2352595</td>\n",
       "      <td>4169415</td>\n",
       "      <td>4689354</td>\n",
       "      <td>4689354.0</td>\n",
       "      <td>4689354.0</td>\n",
       "      <td>4689354.0</td>\n",
       "      <td>4689354</td>\n",
       "      <td>4689354</td>\n",
       "      <td>4689354</td>\n",
       "      <td>4671838</td>\n",
       "      <td>4685271</td>\n",
       "      <td>4688536</td>\n",
       "    </tr>\n",
       "    <tr>\n",
       "      <th>unique</th>\n",
       "      <td>653023</td>\n",
       "      <td>100600</td>\n",
       "      <td>683982</td>\n",
       "      <td>620891</td>\n",
       "      <td>92485.0</td>\n",
       "      <td>34319.0</td>\n",
       "      <td>163739.0</td>\n",
       "      <td>70</td>\n",
       "      <td>3668409</td>\n",
       "      <td>4570199</td>\n",
       "      <td>1013167</td>\n",
       "      <td>3108</td>\n",
       "      <td>1</td>\n",
       "    </tr>\n",
       "    <tr>\n",
       "      <th>top</th>\n",
       "      <td>Live Price Crypto</td>\n",
       "      <td>United States</td>\n",
       "      <td>UP or DOWN...\\n.\\n.\\n.\\n.\\nPrice matters NOT.</td>\n",
       "      <td>2022-03-10 14:06:46</td>\n",
       "      <td>0.0</td>\n",
       "      <td>0.0</td>\n",
       "      <td>0.0</td>\n",
       "      <td>False</td>\n",
       "      <td>2022-05-31 06:02:30</td>\n",
       "      <td>💸 Earn free #BTC and multiply crypto up to 15%...</td>\n",
       "      <td>['Bitcoin']</td>\n",
       "      <td>Twitter for Android</td>\n",
       "      <td>False</td>\n",
       "    </tr>\n",
       "    <tr>\n",
       "      <th>freq</th>\n",
       "      <td>41701</td>\n",
       "      <td>63086</td>\n",
       "      <td>29410</td>\n",
       "      <td>43465</td>\n",
       "      <td>60579.0</td>\n",
       "      <td>115000.0</td>\n",
       "      <td>181174.0</td>\n",
       "      <td>3066892</td>\n",
       "      <td>373</td>\n",
       "      <td>1351</td>\n",
       "      <td>608574</td>\n",
       "      <td>1281003</td>\n",
       "      <td>4688536</td>\n",
       "    </tr>\n",
       "  </tbody>\n",
       "</table>\n",
       "</div>"
      ],
      "text/plain": [
       "                user_name  user_location  \\\n",
       "count             4689246        2352595   \n",
       "unique             653023         100600   \n",
       "top     Live Price Crypto  United States   \n",
       "freq                41701          63086   \n",
       "\n",
       "                                     user_description         user_created  \\\n",
       "count                                         4169415              4689354   \n",
       "unique                                         683982               620891   \n",
       "top     UP or DOWN...\\n.\\n.\\n.\\n.\\nPrice matters NOT.  2022-03-10 14:06:46   \n",
       "freq                                            29410                43465   \n",
       "\n",
       "        user_followers  user_friends  user_favourites user_verified  \\\n",
       "count        4689354.0     4689354.0        4689354.0       4689354   \n",
       "unique         92485.0       34319.0         163739.0            70   \n",
       "top                0.0           0.0              0.0         False   \n",
       "freq           60579.0      115000.0         181174.0       3066892   \n",
       "\n",
       "                       date  \\\n",
       "count               4689354   \n",
       "unique              3668409   \n",
       "top     2022-05-31 06:02:30   \n",
       "freq                    373   \n",
       "\n",
       "                                                     text     hashtags  \\\n",
       "count                                             4689354      4671838   \n",
       "unique                                            4570199      1013167   \n",
       "top     💸 Earn free #BTC and multiply crypto up to 15%...  ['Bitcoin']   \n",
       "freq                                                 1351       608574   \n",
       "\n",
       "                     source is_retweet  \n",
       "count               4685271    4688536  \n",
       "unique                 3108          1  \n",
       "top     Twitter for Android      False  \n",
       "freq                1281003    4688536  "
      ]
     },
     "execution_count": 5,
     "metadata": {},
     "output_type": "execute_result"
    }
   ],
   "source": [
    "df.describe()"
   ]
  },
  {
   "cell_type": "code",
   "execution_count": 13,
   "id": "a1432d14-1b16-421a-800d-51a83a8f4d9c",
   "metadata": {
    "tags": []
   },
   "outputs": [
    {
     "data": {
      "text/html": [
       "<div>\n",
       "<style scoped>\n",
       "    .dataframe tbody tr th:only-of-type {\n",
       "        vertical-align: middle;\n",
       "    }\n",
       "\n",
       "    .dataframe tbody tr th {\n",
       "        vertical-align: top;\n",
       "    }\n",
       "\n",
       "    .dataframe thead th {\n",
       "        text-align: right;\n",
       "    }\n",
       "</style>\n",
       "<table border=\"1\" class=\"dataframe\">\n",
       "  <thead>\n",
       "    <tr style=\"text-align: right;\">\n",
       "      <th></th>\n",
       "      <th>user_name</th>\n",
       "      <th>user_location</th>\n",
       "      <th>user_description</th>\n",
       "      <th>user_created</th>\n",
       "      <th>user_followers</th>\n",
       "      <th>user_friends</th>\n",
       "      <th>user_favourites</th>\n",
       "      <th>user_verified</th>\n",
       "      <th>date</th>\n",
       "      <th>text</th>\n",
       "      <th>hashtags</th>\n",
       "      <th>source</th>\n",
       "      <th>is_retweet</th>\n",
       "    </tr>\n",
       "  </thead>\n",
       "  <tbody>\n",
       "    <tr>\n",
       "      <th>0</th>\n",
       "      <td>DeSota Wilson</td>\n",
       "      <td>Atlanta, GA</td>\n",
       "      <td>Biz Consultant, real estate, fintech, startups...</td>\n",
       "      <td>2009-04-26 20:05:09</td>\n",
       "      <td>8534.0</td>\n",
       "      <td>7605</td>\n",
       "      <td>4838</td>\n",
       "      <td>False</td>\n",
       "      <td>2021-02-10 23:59:04</td>\n",
       "      <td>Blue Ridge Bank shares halted by NYSE after #b...</td>\n",
       "      <td>['bitcoin']</td>\n",
       "      <td>Twitter Web App</td>\n",
       "      <td>False</td>\n",
       "    </tr>\n",
       "    <tr>\n",
       "      <th>1</th>\n",
       "      <td>CryptoND</td>\n",
       "      <td>NaN</td>\n",
       "      <td>😎 BITCOINLIVE is a Dutch platform aimed at inf...</td>\n",
       "      <td>2019-10-17 20:12:10</td>\n",
       "      <td>6769.0</td>\n",
       "      <td>1532</td>\n",
       "      <td>25483</td>\n",
       "      <td>False</td>\n",
       "      <td>2021-02-10 23:58:48</td>\n",
       "      <td>😎 Today, that's this #Thursday, we will do a \"...</td>\n",
       "      <td>['Thursday', 'Btc', 'wallet', 'security']</td>\n",
       "      <td>Twitter for Android</td>\n",
       "      <td>False</td>\n",
       "    </tr>\n",
       "    <tr>\n",
       "      <th>2</th>\n",
       "      <td>Tdlmatias</td>\n",
       "      <td>London, England</td>\n",
       "      <td>IM Academy : The best #forex, #SelfEducation, ...</td>\n",
       "      <td>2014-11-10 10:50:37</td>\n",
       "      <td>128.0</td>\n",
       "      <td>332</td>\n",
       "      <td>924</td>\n",
       "      <td>False</td>\n",
       "      <td>2021-02-10 23:54:48</td>\n",
       "      <td>Guys evening, I have read this article about B...</td>\n",
       "      <td>NaN</td>\n",
       "      <td>Twitter Web App</td>\n",
       "      <td>False</td>\n",
       "    </tr>\n",
       "    <tr>\n",
       "      <th>3</th>\n",
       "      <td>Crypto is the future</td>\n",
       "      <td>NaN</td>\n",
       "      <td>I will post a lot of buying signals for BTC tr...</td>\n",
       "      <td>2019-09-28 16:48:12</td>\n",
       "      <td>625.0</td>\n",
       "      <td>129</td>\n",
       "      <td>14</td>\n",
       "      <td>False</td>\n",
       "      <td>2021-02-10 23:54:33</td>\n",
       "      <td>$BTC A big chance in a billion! Price: \\487264...</td>\n",
       "      <td>['Bitcoin', 'FX', 'BTC', 'crypto']</td>\n",
       "      <td>dlvr.it</td>\n",
       "      <td>False</td>\n",
       "    </tr>\n",
       "    <tr>\n",
       "      <th>4</th>\n",
       "      <td>Alex Kirchmaier 🇦🇹🇸🇪 #FactsSuperspreader</td>\n",
       "      <td>Europa</td>\n",
       "      <td>Co-founder @RENJERJerky | Forbes 30Under30 | I...</td>\n",
       "      <td>2016-02-03 13:15:55</td>\n",
       "      <td>1249.0</td>\n",
       "      <td>1472</td>\n",
       "      <td>10482</td>\n",
       "      <td>False</td>\n",
       "      <td>2021-02-10 23:54:06</td>\n",
       "      <td>This network is secured by 9 508 nodes as of t...</td>\n",
       "      <td>['BTC']</td>\n",
       "      <td>Twitter Web App</td>\n",
       "      <td>False</td>\n",
       "    </tr>\n",
       "  </tbody>\n",
       "</table>\n",
       "</div>"
      ],
      "text/plain": [
       "                                  user_name    user_location  \\\n",
       "0                             DeSota Wilson      Atlanta, GA   \n",
       "1                                  CryptoND              NaN   \n",
       "2                                 Tdlmatias  London, England   \n",
       "3                      Crypto is the future              NaN   \n",
       "4  Alex Kirchmaier 🇦🇹🇸🇪 #FactsSuperspreader           Europa   \n",
       "\n",
       "                                    user_description         user_created  \\\n",
       "0  Biz Consultant, real estate, fintech, startups...  2009-04-26 20:05:09   \n",
       "1  😎 BITCOINLIVE is a Dutch platform aimed at inf...  2019-10-17 20:12:10   \n",
       "2  IM Academy : The best #forex, #SelfEducation, ...  2014-11-10 10:50:37   \n",
       "3  I will post a lot of buying signals for BTC tr...  2019-09-28 16:48:12   \n",
       "4  Co-founder @RENJERJerky | Forbes 30Under30 | I...  2016-02-03 13:15:55   \n",
       "\n",
       "  user_followers user_friends user_favourites user_verified  \\\n",
       "0         8534.0         7605            4838         False   \n",
       "1         6769.0         1532           25483         False   \n",
       "2          128.0          332             924         False   \n",
       "3          625.0          129              14         False   \n",
       "4         1249.0         1472           10482         False   \n",
       "\n",
       "                  date                                               text  \\\n",
       "0  2021-02-10 23:59:04  Blue Ridge Bank shares halted by NYSE after #b...   \n",
       "1  2021-02-10 23:58:48  😎 Today, that's this #Thursday, we will do a \"...   \n",
       "2  2021-02-10 23:54:48  Guys evening, I have read this article about B...   \n",
       "3  2021-02-10 23:54:33  $BTC A big chance in a billion! Price: \\487264...   \n",
       "4  2021-02-10 23:54:06  This network is secured by 9 508 nodes as of t...   \n",
       "\n",
       "                                    hashtags               source is_retweet  \n",
       "0                                ['bitcoin']      Twitter Web App      False  \n",
       "1  ['Thursday', 'Btc', 'wallet', 'security']  Twitter for Android      False  \n",
       "2                                        NaN      Twitter Web App      False  \n",
       "3         ['Bitcoin', 'FX', 'BTC', 'crypto']              dlvr.it      False  \n",
       "4                                    ['BTC']      Twitter Web App      False  "
      ]
     },
     "execution_count": 13,
     "metadata": {},
     "output_type": "execute_result"
    }
   ],
   "source": [
    "df.head()"
   ]
  },
  {
   "cell_type": "markdown",
   "id": "54110320-db79-42db-a379-47f2ca26f6ea",
   "metadata": {},
   "source": [
    "### Cleaning dataset"
   ]
  },
  {
   "cell_type": "code",
   "execution_count": 6,
   "id": "cd804f9c-178f-4b44-ac60-88dfb09dca84",
   "metadata": {
    "tags": []
   },
   "outputs": [
    {
     "data": {
      "text/plain": [
       "user_name               108\n",
       "user_location       2336759\n",
       "user_description     519939\n",
       "user_created              0\n",
       "user_followers            0\n",
       "user_friends              0\n",
       "user_favourites           0\n",
       "user_verified             0\n",
       "date                      0\n",
       "text                      0\n",
       "hashtags              17516\n",
       "source                 4083\n",
       "is_retweet              818\n",
       "dtype: int64"
      ]
     },
     "execution_count": 6,
     "metadata": {},
     "output_type": "execute_result"
    }
   ],
   "source": [
    "df.isnull().sum() "
   ]
  },
  {
   "cell_type": "markdown",
   "id": "21579915-903a-42cb-a393-42db42a3f5b3",
   "metadata": {},
   "source": [
    "#### There is no null for `date` and `text` columns"
   ]
  },
  {
   "cell_type": "code",
   "execution_count": 7,
   "id": "a5c6afff-42d2-4605-8386-504930254dcc",
   "metadata": {
    "tags": []
   },
   "outputs": [
    {
     "data": {
      "text/html": [
       "<div>\n",
       "<style scoped>\n",
       "    .dataframe tbody tr th:only-of-type {\n",
       "        vertical-align: middle;\n",
       "    }\n",
       "\n",
       "    .dataframe tbody tr th {\n",
       "        vertical-align: top;\n",
       "    }\n",
       "\n",
       "    .dataframe thead th {\n",
       "        text-align: right;\n",
       "    }\n",
       "</style>\n",
       "<table border=\"1\" class=\"dataframe\">\n",
       "  <thead>\n",
       "    <tr style=\"text-align: right;\">\n",
       "      <th></th>\n",
       "      <th>user_name</th>\n",
       "      <th>user_location</th>\n",
       "      <th>user_description</th>\n",
       "      <th>user_created</th>\n",
       "      <th>user_followers</th>\n",
       "      <th>user_friends</th>\n",
       "      <th>user_favourites</th>\n",
       "      <th>user_verified</th>\n",
       "      <th>date</th>\n",
       "      <th>text</th>\n",
       "      <th>hashtags</th>\n",
       "      <th>source</th>\n",
       "      <th>is_retweet</th>\n",
       "    </tr>\n",
       "  </thead>\n",
       "  <tbody>\n",
       "  </tbody>\n",
       "</table>\n",
       "</div>"
      ],
      "text/plain": [
       "Empty DataFrame\n",
       "Columns: [user_name, user_location, user_description, user_created, user_followers, user_friends, user_favourites, user_verified, date, text, hashtags, source, is_retweet]\n",
       "Index: []"
      ]
     },
     "execution_count": 7,
     "metadata": {},
     "output_type": "execute_result"
    }
   ],
   "source": [
    "df[df.duplicated(keep=False)]"
   ]
  },
  {
   "cell_type": "markdown",
   "id": "e85abb25-ccfc-48f8-a180-3da7cb95c527",
   "metadata": {
    "tags": []
   },
   "source": [
    "#### No duplicated records"
   ]
  },
  {
   "cell_type": "markdown",
   "id": "70b725b3-9f93-4802-bb5a-48490653957d",
   "metadata": {},
   "source": [
    "### validate date"
   ]
  },
  {
   "cell_type": "code",
   "execution_count": 8,
   "id": "f9d63de7-4ba5-4a03-b535-6cd9c6d066f4",
   "metadata": {
    "tags": []
   },
   "outputs": [],
   "source": [
    "def validate_date(date_text):\n",
    "    errors = []\n",
    "    for i,v in enumerate(date_text):\n",
    "        try:\n",
    "            datetime.strptime(v, '%Y-%m-%d %H:%M:%S')\n",
    "        except ValueError:\n",
    "            errors.append(i)\n",
    "    return errors"
   ]
  },
  {
   "cell_type": "code",
   "execution_count": 15,
   "id": "291cbab3-c039-4901-9803-dedb7bf53d22",
   "metadata": {
    "tags": []
   },
   "outputs": [
    {
     "name": "stdout",
     "output_type": "stream",
     "text": [
      "There are 66 invalid dates in the date column\n"
     ]
    }
   ],
   "source": [
    "errors = validate_date(df['date'])\n",
    "print('There are '+ str(len(errors)) + ' invalid dates in the date column')"
   ]
  },
  {
   "cell_type": "code",
   "execution_count": 10,
   "id": "39ac731d-f3c0-4af8-9f0d-f56b9dad9b17",
   "metadata": {
    "tags": []
   },
   "outputs": [
    {
     "data": {
      "text/plain": [
       "(4689288, 13)"
      ]
     },
     "execution_count": 10,
     "metadata": {},
     "output_type": "execute_result"
    }
   ],
   "source": [
    "# remove invalid dates\n",
    "df_date_clean = df.loc[~df.index.isin(errors)]\n",
    "df_date_clean.reset_index(drop=True,inplace=True)\n",
    "df_date_clean.shape"
   ]
  },
  {
   "cell_type": "code",
   "execution_count": 18,
   "id": "2db84d23-2162-47fe-977d-574500ae2762",
   "metadata": {},
   "outputs": [
    {
     "name": "stdout",
     "output_type": "stream",
     "text": [
      "Minimum Date: 2021-02-05 10:52:04\n",
      "Maximum Date: 2023-01-09 23:59:54\n"
     ]
    }
   ],
   "source": [
    "# Get the minimum date\n",
    "min_date = df_date_clean['date'].min()\n",
    "\n",
    "# Get the maximum date\n",
    "max_date = df_date_clean['date'].max()\n",
    "\n",
    "print(\"Minimum Date:\", min_date)\n",
    "print(\"Maximum Date:\", max_date)"
   ]
  },
  {
   "cell_type": "code",
   "execution_count": null,
   "id": "0113ec3c-28c3-4a16-8b3f-f81a1227460d",
   "metadata": {},
   "outputs": [],
   "source": []
  }
 ],
 "metadata": {
  "kernelspec": {
   "display_name": "Python 3 (ipykernel)",
   "language": "python",
   "name": "python3"
  },
  "language_info": {
   "codemirror_mode": {
    "name": "ipython",
    "version": 3
   },
   "file_extension": ".py",
   "mimetype": "text/x-python",
   "name": "python",
   "nbconvert_exporter": "python",
   "pygments_lexer": "ipython3",
   "version": "3.11.4"
  }
 },
 "nbformat": 4,
 "nbformat_minor": 5
}
